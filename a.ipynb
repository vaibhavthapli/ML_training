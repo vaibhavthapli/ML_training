{
 "cells": [
  {
   "metadata": {},
   "cell_type": "markdown",
   "source": "# Regression Problem",
   "id": "9799d9142e43c004"
  },
  {
   "metadata": {},
   "cell_type": "markdown",
   "source": "## Download the data",
   "id": "e93919244c21ee81"
  },
  {
   "metadata": {
    "ExecuteTime": {
     "end_time": "2024-10-01T11:04:36.030032Z",
     "start_time": "2024-10-01T11:04:36.022185Z"
    }
   },
   "cell_type": "code",
   "source": [
    "import os\n",
    "import tarfile\n",
    "import urllib"
   ],
   "id": "f77dcb6c5c0cf7cc",
   "outputs": [],
   "execution_count": 1
  },
  {
   "metadata": {
    "ExecuteTime": {
     "end_time": "2024-10-01T11:16:29.264643Z",
     "start_time": "2024-10-01T11:16:29.259724Z"
    }
   },
   "cell_type": "code",
   "source": [
    "# URL for downloading the dataset\n",
    "download_root = \"https://github.com/ageron/handson-ml2/raw/refs/heads/master/\"\n",
    "data_path = os.path.join(\"datasets\", \"housing\")  # Local directory to store the dataset\n",
    "data_url = download_root + \"datasets/housing/housing.tgz\"  # Complete URL to the dataset"
   ],
   "id": "1d48814c8d44f0c4",
   "outputs": [],
   "execution_count": 2
  },
  {
   "metadata": {
    "ExecuteTime": {
     "end_time": "2024-10-01T11:27:09.006315Z",
     "start_time": "2024-10-01T11:27:07.603563Z"
    }
   },
   "cell_type": "code",
   "source": [
    "#function for download dataset\n",
    "# Function to download and extract the dataset\n",
    "def fetch_data(housing_url=data_url, housing_path=data_path):\n",
    "    os.makedirs(housing_path, exist_ok=True)  # Create directory if it doesn't exist\n",
    "    tgz_path = os.path.join(housing_path, \"housing.tgz\")  # Path to save the .tgz file\n",
    "    urllib.request.urlretrieve(housing_url, tgz_path)  # Download the .tgz file\n",
    "    housing_tgz = tarfile.open(tgz_path)  # Open the .tgz file\n",
    "    housing_tgz.extractall(housing_path)  # Extract its contents\n",
    "    housing_tgz.close()  # Close the file\n",
    "\n",
    "# Fetch the dataset\n",
    "fetch_data()"
   ],
   "id": "68310debb7a2db60",
   "outputs": [],
   "execution_count": 3
  },
  {
   "metadata": {
    "ExecuteTime": {
     "end_time": "2024-10-01T11:30:12.337806Z",
     "start_time": "2024-10-01T11:30:11.654833Z"
    }
   },
   "cell_type": "code",
   "source": [
    "# Now load the data using pandas\n",
    "import pandas as pd\n",
    "def load_data(path=data_path):\n",
    "    csv_path = os.path.join(path, \"housing.csv\")\n",
    "    return pd.read_csv(csv_path)"
   ],
   "id": "4863a497257dab17",
   "outputs": [],
   "execution_count": 4
  },
  {
   "metadata": {},
   "cell_type": "markdown",
   "source": "## Take a Quick look at the data structure",
   "id": "ad12c00f39580b50"
  },
  {
   "metadata": {},
   "cell_type": "code",
   "outputs": [],
   "execution_count": null,
   "source": "",
   "id": "b1f2851d66783fbf"
  }
 ],
 "metadata": {
  "kernelspec": {
   "display_name": "tfod",
   "language": "python",
   "name": "tfod"
  },
  "language_info": {
   "codemirror_mode": {
    "name": "ipython",
    "version": 2
   },
   "file_extension": ".py",
   "mimetype": "text/x-python",
   "name": "python",
   "nbconvert_exporter": "python",
   "pygments_lexer": "ipython2",
   "version": "2.7.6"
  }
 },
 "nbformat": 4,
 "nbformat_minor": 5
}
